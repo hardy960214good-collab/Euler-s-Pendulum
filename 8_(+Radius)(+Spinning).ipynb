{
  "cells": [
    {
      "cell_type": "code",
      "execution_count": null,
      "metadata": {
        "id": "dC0vHLadRfuh"
      },
      "outputs": [],
      "source": [
        "import numpy as np\n",
        "import matplotlib.pyplot as plt\n",
        "import sympy as smp\n",
        "from scipy.integrate import odeint\n"
      ]
    },
    {
      "cell_type": "code",
      "execution_count": null,
      "metadata": {
        "id": "cQth8Vq0Rhsu"
      },
      "outputs": [],
      "source": [
        "t = smp.symbols('t', real=True)\n",
        "the, phi, psi= smp.symbols(r'\\theta \\phi \\psi', cls=smp.Function)\n",
        "#角度定義\n",
        "the = the(t) #傾斜角度\n",
        "phi = phi(t) #公轉角度\n",
        "psi = psi(t) #自轉角度\n",
        "\n",
        "# 速度定義\n",
        "the_d = smp.diff(the,t)\n",
        "phi_d = smp.diff(phi,t)\n",
        "psi_d = smp.diff(psi,t)\n",
        "\n",
        "# 加速度定義\n",
        "the_dd = smp.diff(the_d,t)\n",
        "phi_dd = smp.diff(phi_d,t)\n",
        "psi_dd = smp.diff(psi_d,t)"
      ]
    },
    {
      "cell_type": "code",
      "execution_count": null,
      "metadata": {
        "id": "v_xlvCJxRlmi"
      },
      "outputs": [],
      "source": [
        "#轉動慣量\n",
        "#Ixx = 0.00012875\n",
        "#Izz = 0.00000000000001\n",
        "#Iyy = 0.00012875\n",
        "#Izz = 0.0000075\n",
        "\n",
        "g = 9.8   #重力加速度\n",
        "m = 0.15   #單擺質量\n",
        "q = 280   #上方磁鐵磁偶\n",
        "Q = 300   #下方磁鐵磁偶\n",
        "l = 0.1   #擺長\n",
        "r = 0.01   #磁鐵半徑\n",
        "h = 0.003  #板子厚度\n",
        "Ixx = 1/12*(3*0.01**2+0.1**2)\n",
        "Iyy = Ixx\n",
        "Izz = 0.000000001"
      ]
    },
    {
      "cell_type": "code",
      "execution_count": null,
      "metadata": {
        "colab": {
          "base_uri": "https://localhost:8080/",
          "height": 38
        },
        "id": "Rcgza9T5Roqt",
        "outputId": "7aff7466-7f1d-405e-b219-051ae430c48f"
      },
      "outputs": [
        {
          "output_type": "execute_result",
          "data": {
            "text/plain": [
              "Matrix([[sin(\\psi(t))*sin(\\theta(t))*Derivative(\\phi(t), t) + cos(\\psi(t))*Derivative(\\theta(t), t), -sin(\\psi(t))*Derivative(\\theta(t), t) + sin(\\theta(t))*cos(\\psi(t))*Derivative(\\phi(t), t), cos(\\theta(t))*Derivative(\\phi(t), t) + Derivative(\\psi(t), t)]])"
            ],
            "text/latex": "$\\displaystyle \\left[\\begin{matrix}\\sin{\\left(\\psi{\\left(t \\right)} \\right)} \\sin{\\left(\\theta{\\left(t \\right)} \\right)} \\frac{d}{d t} \\phi{\\left(t \\right)} + \\cos{\\left(\\psi{\\left(t \\right)} \\right)} \\frac{d}{d t} \\theta{\\left(t \\right)} & - \\sin{\\left(\\psi{\\left(t \\right)} \\right)} \\frac{d}{d t} \\theta{\\left(t \\right)} + \\sin{\\left(\\theta{\\left(t \\right)} \\right)} \\cos{\\left(\\psi{\\left(t \\right)} \\right)} \\frac{d}{d t} \\phi{\\left(t \\right)} & \\cos{\\left(\\theta{\\left(t \\right)} \\right)} \\frac{d}{d t} \\phi{\\left(t \\right)} + \\frac{d}{d t} \\psi{\\left(t \\right)}\\end{matrix}\\right]$"
          },
          "metadata": {},
          "execution_count": 6
        }
      ],
      "source": [
        "#x,y,z方向角速度的定義\n",
        "omega = smp.Matrix([phi_d*smp.sin(the)*smp.sin(psi)+the_d*smp.cos(psi),\n",
        "                    phi_d*smp.sin(the)*smp.cos(psi)-the_d*smp.sin(psi),\n",
        "                    phi_d*smp.cos(the)+psi_d])\n",
        "omega.T\n"
      ]
    },
    {
      "cell_type": "code",
      "execution_count": null,
      "metadata": {
        "colab": {
          "base_uri": "https://localhost:8080/",
          "height": 78
        },
        "id": "SHAMY1A0RvjO",
        "outputId": "65e65cf4-cd77-4c8e-d7c0-9606db93098d"
      },
      "outputs": [
        {
          "output_type": "execute_result",
          "data": {
            "text/plain": [
              "Matrix([\n",
              "[0.000858333333333333,                    0,      0],\n",
              "[                   0, 0.000858333333333333,      0],\n",
              "[                   0,                    0, 1.0e-9]])"
            ],
            "text/latex": "$\\displaystyle \\left[\\begin{matrix}0.000858333333333333 & 0 & 0\\\\0 & 0.000858333333333333 & 0\\\\0 & 0 & 1.0 \\cdot 10^{-9}\\end{matrix}\\right]$"
          },
          "metadata": {},
          "execution_count": 8
        }
      ],
      "source": [
        "#轉動慣量\n",
        "I = smp.Matrix([[Ixx,0,0],[0,Iyy,0],[0,0,Izz]])\n",
        "I"
      ]
    },
    {
      "cell_type": "code",
      "execution_count": null,
      "metadata": {
        "id": "sNKjYdAMRyB5"
      },
      "outputs": [],
      "source": [
        "#質心與原點的距離\n",
        "distance = -r*smp.cos(the) + r + l/2*smp.sin(the)\n",
        "\n",
        "#質心的位置以x,y,z座標標示\n",
        "z = -r*smp.sin(the)-1/2*smp.cos(the)\n",
        "x = distance*smp.cos(phi)\n",
        "y = distance*smp.sin(phi)\n",
        "\n",
        "#質心在x,y,z方向上的速度\n",
        "distance_d = smp.diff(distance,t)\n",
        "x_d = smp.diff(x,t)\n",
        "y_d = smp.diff(y,t)\n",
        "z_d = smp.diff(z,t)"
      ]
    },
    {
      "cell_type": "code",
      "execution_count": null,
      "metadata": {
        "id": "LPXODKeXRzfp",
        "colab": {
          "base_uri": "https://localhost:8080/"
        },
        "outputId": "9dfe41d1-d55f-465b-f0c3-76078cb7ce8e"
      },
      "outputs": [
        {
          "output_type": "execute_result",
          "data": {
            "text/plain": [
              "True"
            ]
          },
          "metadata": {},
          "execution_count": 12
        }
      ],
      "source": [
        "translation = 1/2*m*(x_d**2 + y_d**2 + z_d**2) #移動動能\n",
        "rotation = 1/2*omega.dot(I*omega).simplify()   #轉動動能\n",
        "\n",
        "distance_to_charge = (r*r*(1-smp.cos(the))**2+(h+r*smp.sin(the))**2)**0.5 #兩個磁偶的距離\n",
        "V = m*g*z\n",
        "# - q*Q/10**7/distance_to_charge           #位能項(重力位能+磁力位能)\n",
        "L = translation + rotation - V #拉格朗日\n"
      ]
    },
    {
      "cell_type": "code",
      "execution_count": null,
      "metadata": {
        "colab": {
          "background_save": true
        },
        "id": "MJ6PXe8kR1qR"
      },
      "outputs": [],
      "source": [
        "#分別找出三個角度上的EOM\n",
        "LE1 = smp.diff(L, the) - smp.diff(smp.diff(L, the_d), t)\n",
        "LE1 = LE1.simplify()\n",
        "\n",
        "LE2 = smp.diff(L, phi) - smp.diff(smp.diff(L, phi_d), t)\n",
        "LE2 = LE2.simplify()\n",
        "\n",
        "LE3 = smp.diff(L, psi) - smp.diff(smp.diff(L, psi_d), t)\n",
        "LE3 = LE3.simplify()\n",
        "\n",
        "sols = smp.solve([LE1, LE2, LE3], (the_dd, phi_dd, psi_dd),\n",
        "                simplify=False, rational=False)"
      ]
    },
    {
      "cell_type": "code",
      "execution_count": null,
      "metadata": {
        "colab": {
          "background_save": true,
          "base_uri": "https://localhost:8080/",
          "height": 302
        },
        "id": "RMQES3VnKeiG",
        "outputId": "67838e06-6e83-42f1-c06e-4d0b9dd087ae"
      },
      "outputs": [
        {
          "data": {
            "text/latex": "$\\displaystyle 1.90582413132218 \\cdot 10^{-21} \\sin{\\left(2 \\phi{\\left(t \\right)} - 2 \\theta{\\left(t \\right)} \\right)} \\frac{d}{d t} \\phi{\\left(t \\right)} \\frac{d}{d t} \\theta{\\left(t \\right)} + 1.90582413132218 \\cdot 10^{-21} \\sin{\\left(2 \\phi{\\left(t \\right)} + 2 \\theta{\\left(t \\right)} \\right)} \\frac{d}{d t} \\phi{\\left(t \\right)} \\frac{d}{d t} \\theta{\\left(t \\right)} - 3.81164826264435 \\cdot 10^{-21} \\sin{\\left(2 \\phi{\\left(t \\right)} \\right)} \\frac{d}{d t} \\phi{\\left(t \\right)} \\frac{d}{d t} \\theta{\\left(t \\right)} + 1.5 \\cdot 10^{-5} \\sin{\\left(\\theta{\\left(t \\right)} \\right)} \\left(\\frac{d}{d t} \\phi{\\left(t \\right)}\\right)^{2} - 1.0 \\cdot 10^{-9} \\sin{\\left(\\theta{\\left(t \\right)} \\right)} \\frac{d}{d t} \\phi{\\left(t \\right)} \\frac{d}{d t} \\psi{\\left(t \\right)} - 0.735 \\sin{\\left(\\theta{\\left(t \\right)} \\right)} + 0.000609166166666667 \\sin{\\left(2 \\theta{\\left(t \\right)} \\right)} \\left(\\frac{d}{d t} \\phi{\\left(t \\right)}\\right)^{2} - 0.0185625 \\sin{\\left(2 \\theta{\\left(t \\right)} \\right)} \\left(\\frac{d}{d t} \\theta{\\left(t \\right)}\\right)^{2} + 0.000675 \\sin{\\left(2 \\theta{\\left(t \\right)} \\right)} \\frac{d^{2}}{d t^{2}} \\theta{\\left(t \\right)} + 1.90582413132218 \\cdot 10^{-21} \\cos{\\left(2 \\phi{\\left(t \\right)} - 2 \\theta{\\left(t \\right)} \\right)} \\frac{d^{2}}{d t^{2}} \\theta{\\left(t \\right)} + 1.90582413132218 \\cdot 10^{-21} \\cos{\\left(2 \\phi{\\left(t \\right)} + 2 \\theta{\\left(t \\right)} \\right)} \\frac{d^{2}}{d t^{2}} \\theta{\\left(t \\right)} - 3.81164826264435 \\cdot 10^{-21} \\cos{\\left(2 \\phi{\\left(t \\right)} \\right)} \\frac{d^{2}}{d t^{2}} \\theta{\\left(t \\right)} + 7.5 \\cdot 10^{-5} \\cos{\\left(\\theta{\\left(t \\right)} \\right)} \\left(\\frac{d}{d t} \\phi{\\left(t \\right)}\\right)^{2} + 0.0147 \\cos{\\left(\\theta{\\left(t \\right)} \\right)} - 7.5 \\cdot 10^{-5} \\cos{\\left(2 \\theta{\\left(t \\right)} \\right)} \\left(\\frac{d}{d t} \\phi{\\left(t \\right)}\\right)^{2} + 0.000675 \\cos{\\left(2 \\theta{\\left(t \\right)} \\right)} \\left(\\frac{d}{d t} \\theta{\\left(t \\right)}\\right)^{2} + 0.0185625 \\cos{\\left(2 \\theta{\\left(t \\right)} \\right)} \\frac{d^{2}}{d t^{2}} \\theta{\\left(t \\right)} - 0.0198108333333333 \\frac{d^{2}}{d t^{2}} \\theta{\\left(t \\right)}$",
            "text/plain": [
              "1.90582413132218e-21*sin(2*\\phi(t) - 2*\\theta(t))*Derivative(\\phi(t), t)*Derivative(\\theta(t), t) + 1.90582413132218e-21*sin(2*\\phi(t) + 2*\\theta(t))*Derivative(\\phi(t), t)*Derivative(\\theta(t), t) - 3.81164826264435e-21*sin(2*\\phi(t))*Derivative(\\phi(t), t)*Derivative(\\theta(t), t) + 1.5e-5*sin(\\theta(t))*Derivative(\\phi(t), t)**2 - 1.0e-9*sin(\\theta(t))*Derivative(\\phi(t), t)*Derivative(\\psi(t), t) - 0.735*sin(\\theta(t)) + 0.000609166166666667*sin(2*\\theta(t))*Derivative(\\phi(t), t)**2 - 0.0185625*sin(2*\\theta(t))*Derivative(\\theta(t), t)**2 + 0.000675*sin(2*\\theta(t))*Derivative(\\theta(t), (t, 2)) + 1.90582413132218e-21*cos(2*\\phi(t) - 2*\\theta(t))*Derivative(\\theta(t), (t, 2)) + 1.90582413132218e-21*cos(2*\\phi(t) + 2*\\theta(t))*Derivative(\\theta(t), (t, 2)) - 3.81164826264435e-21*cos(2*\\phi(t))*Derivative(\\theta(t), (t, 2)) + 7.5e-5*cos(\\theta(t))*Derivative(\\phi(t), t)**2 + 0.0147*cos(\\theta(t)) - 7.5e-5*cos(2*\\theta(t))*Derivative(\\phi(t), t)**2 + 0.000675*cos(2*\\theta(t))*Derivative(\\theta(t), t)**2 + 0.0185625*cos(2*\\theta(t))*Derivative(\\theta(t), (t, 2)) - 0.0198108333333333*Derivative(\\theta(t), (t, 2))"
            ]
          },
          "execution_count": 9,
          "metadata": {},
          "output_type": "execute_result"
        }
      ],
      "source": [
        "LE1"
      ]
    },
    {
      "cell_type": "code",
      "execution_count": null,
      "metadata": {
        "colab": {
          "background_save": true
        },
        "id": "knfKXbVlR9Ei"
      },
      "outputs": [],
      "source": [
        "dz1dt_f = smp.lambdify((the, phi, psi, the_d, phi_d, psi_d), sols[the_dd])\n",
        "dthedt_f = smp.lambdify(the_d, the_d)\n",
        "\n",
        "dz2dt_f = smp.lambdify((the, phi, psi, the_d, phi_d, psi_d), sols[phi_dd])\n",
        "dphidt_f = smp.lambdify(phi_d, phi_d)\n",
        "\n",
        "dz3dt_f = smp.lambdify((the, phi, psi, the_d, phi_d, psi_d), sols[psi_dd])\n",
        "dpsidt_f = smp.lambdify(psi_d, psi_d)\n",
        "\n",
        "def dSdt(S, t):\n",
        "    the, z1, phi, z2, psi, z3 = S\n",
        "    return [\n",
        "        dthedt_f(z1),\n",
        "        dz1dt_f(the,phi,psi,z1,z2,z3),\n",
        "        dphidt_f(z2),\n",
        "        dz2dt_f(the,phi,psi,z1,z2,z3),\n",
        "        dpsidt_f(z3),\n",
        "        dz3dt_f(the,phi,psi,z1,z2,z3),\n",
        "    ]"
      ]
    },
    {
      "cell_type": "code",
      "execution_count": null,
      "metadata": {
        "colab": {
          "background_save": true
        },
        "id": "x1TyCs9ASCqk"
      },
      "outputs": [],
      "source": [
        "time = 1  #總共運行時間\n",
        "dt = 0.001  #數值解的時間間隔\n",
        "samples = time/dt\n",
        "t = np.linspace(0, time, int(samples))\n",
        "ans1 = odeint(dSdt, y0 = [0.5, 0.1, 0.1, 10, 0.1, 0.1],   t = t) #初始條件([theta角, theta角速度, phi角, phi角速度, psi角, psi角速度])"
      ]
    },
    {
      "cell_type": "code",
      "execution_count": null,
      "metadata": {
        "colab": {
          "background_save": true
        },
        "id": "mL-z0rpySJqV"
      },
      "outputs": [],
      "source": [
        "#輸出某個時間點的各項參數(用於繪製動畫)\n",
        "the = ans1.T[0]\n",
        "phi = ans1.T[2]\n",
        "psi = ans1.T[4]\n",
        "\n",
        "path = r\"Numerical Solution.txt\"\n",
        "with open (path,'w') as f:\n",
        "  f.write(str([r,l,h,dt])+\"\\n\")\n",
        "  for n in range(0,int(samples)-1):\n",
        "    distance = -r*smp.cos(the[n]) + r + l/2*smp.sin(the[n])\n",
        "    x = distance*smp.cos(phi[n])\n",
        "    y = distance*smp.sin(phi[n])\n",
        "    z = -r*smp.sin(the[n])-l/2*smp.cos(the[n])\n",
        "    f.write(str([n*dt,x,y,z,the[n],phi[n],psi[n]])+\"\\n\")\n",
        "f.close()\n"
      ]
    },
    {
      "cell_type": "code",
      "execution_count": null,
      "metadata": {
        "colab": {
          "background_save": true,
          "base_uri": "https://localhost:8080/",
          "height": 430
        },
        "id": "DDRuHsDvANRk",
        "outputId": "7a68c916-164f-4159-8c17-e44061e2f645"
      },
      "outputs": [
        {
          "data": {
            "image/png": "[encoded data removed]",
            "text/plain": [
              "<Figure size 640x480 with 1 Axes>"
            ]
          },
          "metadata": {},
          "output_type": "display_data"
        }
      ],
      "source": [
        "plt.plot(t,the)\n",
        "plt.plot(t, phi)\n",
        "plt.plot(t, psi)\n",
        "plt.show()"
      ]
    }
  ],
  "metadata": {
    "colab": {
      "provenance": []
    },
    "kernelspec": {
      "display_name": "Python 3",
      "name": "python3"
    },
    "language_info": {
      "name": "python"
    }
  },
  "nbformat": 4,
  "nbformat_minor": 0
}