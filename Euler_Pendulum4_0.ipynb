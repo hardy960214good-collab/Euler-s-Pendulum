{
  "cells": [
    {
      "cell_type": "code",
      "execution_count": null,
      "metadata": {
        "id": "9af33a1b"
      },
      "outputs": [],
      "source": [
        "import numpy as np\n",
        "import matplotlib.pyplot as plt\n",
        "import sympy as smp\n",
        "from scipy.integrate import odeint\n",
        "import plotly.graph_objects as go\n",
        "from IPython.display import HTML\n",
        "from matplotlib import animation\n",
        "from mpl_toolkits.mplot3d import Axes3D\n",
        "from matplotlib.animation import PillowWriter\n",
        "import math"
      ],
      "id": "9af33a1b"
    },
    {
      "cell_type": "code",
      "execution_count": null,
      "metadata": {
        "id": "1a9a2fad"
      },
      "outputs": [],
      "source": [
        "t, h, g = smp.symbols('t h g', real=True)\n",
        "the, phi, psi = smp.symbols(r'\\theta \\phi \\psi', cls=smp.Function)\n",
        "the = the(t)\n",
        "phi = phi(t)\n",
        "psi = psi(t)\n",
        "# Derivatives\n",
        "the_d = smp.diff(the,t)\n",
        "phi_d = smp.diff(phi,t)\n",
        "psi_d = smp.diff(psi,t)\n",
        "# Second derivatives\n",
        "the_dd = smp.diff(the_d,t)\n",
        "phi_dd = smp.diff(phi_d,t)\n",
        "psi_dd = smp.diff(psi_d,t)"
      ],
      "id": "1a9a2fad"
    },
    {
      "cell_type": "code",
      "execution_count": null,
      "metadata": {
        "id": "d6017f91"
      },
      "outputs": [],
      "source": [
        "#definitions\n",
        "#rotational inertia\n",
        "Ixx = 0.0002429\n",
        "Iyy = 0.0002429\n",
        "Izz = 0.00001415\n",
        "\n",
        "uk = 0.4\n",
        "g = 9.8\n",
        "m = 0.023*10\n",
        "q = 300\n",
        "Q = 200\n",
        "l = 0.2\n",
        "r = 0.01\n",
        "mu = 4*np.pi/10**7\n",
        "h = 0.03"
      ],
      "id": "d6017f91"
    },
    {
      "cell_type": "code",
      "execution_count": null,
      "metadata": {
        "id": "50f0cb71",
        "colab": {
          "base_uri": "https://localhost:8080/",
          "height": 78
        },
        "outputId": "1dc998c8-144b-4758-f925-a91cdf97db04"
      },
      "outputs": [
        {
          "output_type": "execute_result",
          "data": {
            "text/plain": [
              "Matrix([\n",
              "[-sin(\\phi(t))*sin(\\psi(t))*cos(\\theta(t)) + cos(\\phi(t))*cos(\\psi(t)), -sin(\\phi(t))*cos(\\psi(t))*cos(\\theta(t)) - sin(\\psi(t))*cos(\\phi(t)),  sin(\\phi(t))*sin(\\theta(t))],\n",
              "[ sin(\\phi(t))*cos(\\psi(t)) + sin(\\psi(t))*cos(\\phi(t))*cos(\\theta(t)), -sin(\\phi(t))*sin(\\psi(t)) + cos(\\phi(t))*cos(\\psi(t))*cos(\\theta(t)), -sin(\\theta(t))*cos(\\phi(t))],\n",
              "[                                          sin(\\psi(t))*sin(\\theta(t)),                                           sin(\\theta(t))*cos(\\psi(t)),               cos(\\theta(t))]])"
            ],
            "text/latex": "$\\displaystyle \\left[\\begin{matrix}- \\sin{\\left(\\phi{\\left(t \\right)} \\right)} \\sin{\\left(\\psi{\\left(t \\right)} \\right)} \\cos{\\left(\\theta{\\left(t \\right)} \\right)} + \\cos{\\left(\\phi{\\left(t \\right)} \\right)} \\cos{\\left(\\psi{\\left(t \\right)} \\right)} & - \\sin{\\left(\\phi{\\left(t \\right)} \\right)} \\cos{\\left(\\psi{\\left(t \\right)} \\right)} \\cos{\\left(\\theta{\\left(t \\right)} \\right)} - \\sin{\\left(\\psi{\\left(t \\right)} \\right)} \\cos{\\left(\\phi{\\left(t \\right)} \\right)} & \\sin{\\left(\\phi{\\left(t \\right)} \\right)} \\sin{\\left(\\theta{\\left(t \\right)} \\right)}\\\\\\sin{\\left(\\phi{\\left(t \\right)} \\right)} \\cos{\\left(\\psi{\\left(t \\right)} \\right)} + \\sin{\\left(\\psi{\\left(t \\right)} \\right)} \\cos{\\left(\\phi{\\left(t \\right)} \\right)} \\cos{\\left(\\theta{\\left(t \\right)} \\right)} & - \\sin{\\left(\\phi{\\left(t \\right)} \\right)} \\sin{\\left(\\psi{\\left(t \\right)} \\right)} + \\cos{\\left(\\phi{\\left(t \\right)} \\right)} \\cos{\\left(\\psi{\\left(t \\right)} \\right)} \\cos{\\left(\\theta{\\left(t \\right)} \\right)} & - \\sin{\\left(\\theta{\\left(t \\right)} \\right)} \\cos{\\left(\\phi{\\left(t \\right)} \\right)}\\\\\\sin{\\left(\\psi{\\left(t \\right)} \\right)} \\sin{\\left(\\theta{\\left(t \\right)} \\right)} & \\sin{\\left(\\theta{\\left(t \\right)} \\right)} \\cos{\\left(\\psi{\\left(t \\right)} \\right)} & \\cos{\\left(\\theta{\\left(t \\right)} \\right)}\\end{matrix}\\right]$"
          },
          "metadata": {},
          "execution_count": 27
        }
      ],
      "source": [
        "R3 = smp.Matrix([[smp.cos(psi),-smp.sin(psi),0],\n",
        "                 [smp.sin(psi),smp.cos(psi),0],\n",
        "                 [0,0,1]])\n",
        "\n",
        "R2 = smp.Matrix([[1,0,0],\n",
        "                 [0,smp.cos(the),-smp.sin(the)],\n",
        "                 [0,smp.sin(the),smp.cos(the)]])\n",
        "\n",
        "R1 = smp.Matrix([[smp.cos(phi),-smp.sin(phi),0],\n",
        "                 [smp.sin(phi),smp.cos(phi),0],\n",
        "                 [0,0,1]])\n",
        "\n",
        "R = R1*R2*R3\n",
        "R"
      ],
      "id": "50f0cb71"
    },
    {
      "cell_type": "code",
      "execution_count": null,
      "metadata": {
        "id": "c6d42e8d",
        "colab": {
          "base_uri": "https://localhost:8080/",
          "height": 78
        },
        "outputId": "eb87aedb-7ff6-4559-f4aa-a70c446ef9c2"
      },
      "outputs": [
        {
          "output_type": "execute_result",
          "data": {
            "text/plain": [
              "Matrix([\n",
              "[-sin(\\phi(t))*sin(\\theta(t))],\n",
              "[ sin(\\theta(t))*cos(\\phi(t))],\n",
              "[             -cos(\\theta(t))]])"
            ],
            "text/latex": "$\\displaystyle \\left[\\begin{matrix}- \\sin{\\left(\\phi{\\left(t \\right)} \\right)} \\sin{\\left(\\theta{\\left(t \\right)} \\right)}\\\\\\sin{\\left(\\theta{\\left(t \\right)} \\right)} \\cos{\\left(\\phi{\\left(t \\right)} \\right)}\\\\- \\cos{\\left(\\theta{\\left(t \\right)} \\right)}\\end{matrix}\\right]$"
          },
          "metadata": {},
          "execution_count": 28
        }
      ],
      "source": [
        "R@smp.Matrix([0,0,-1])"
      ],
      "id": "c6d42e8d"
    },
    {
      "cell_type": "code",
      "execution_count": null,
      "metadata": {
        "id": "c7159610",
        "colab": {
          "base_uri": "https://localhost:8080/",
          "height": 80
        },
        "outputId": "b5aa1e71-59c8-4ec9-b954-f24447b6ff25"
      },
      "outputs": [
        {
          "output_type": "execute_result",
          "data": {
            "text/plain": [
              "Matrix([\n",
              "[ sin(\\psi(t))*sin(\\theta(t))*Derivative(\\phi(t), t) + cos(\\psi(t))*Derivative(\\theta(t), t)],\n",
              "[-sin(\\psi(t))*Derivative(\\theta(t), t) + sin(\\theta(t))*cos(\\psi(t))*Derivative(\\phi(t), t)],\n",
              "[                             cos(\\theta(t))*Derivative(\\phi(t), t) + Derivative(\\psi(t), t)]])"
            ],
            "text/latex": "$\\displaystyle \\left[\\begin{matrix}\\sin{\\left(\\psi{\\left(t \\right)} \\right)} \\sin{\\left(\\theta{\\left(t \\right)} \\right)} \\frac{d}{d t} \\phi{\\left(t \\right)} + \\cos{\\left(\\psi{\\left(t \\right)} \\right)} \\frac{d}{d t} \\theta{\\left(t \\right)}\\\\- \\sin{\\left(\\psi{\\left(t \\right)} \\right)} \\frac{d}{d t} \\theta{\\left(t \\right)} + \\sin{\\left(\\theta{\\left(t \\right)} \\right)} \\cos{\\left(\\psi{\\left(t \\right)} \\right)} \\frac{d}{d t} \\phi{\\left(t \\right)}\\\\\\cos{\\left(\\theta{\\left(t \\right)} \\right)} \\frac{d}{d t} \\phi{\\left(t \\right)} + \\frac{d}{d t} \\psi{\\left(t \\right)}\\end{matrix}\\right]$"
          },
          "metadata": {},
          "execution_count": 29
        }
      ],
      "source": [
        "omega = smp.Matrix([phi_d*smp.sin(the)*smp.sin(psi)+the_d*smp.cos(psi),\n",
        "                    phi_d*smp.sin(the)*smp.cos(psi)-the_d*smp.sin(psi),\n",
        "                    phi_d*smp.cos(the)+psi_d])\n",
        "omega"
      ],
      "id": "c7159610"
    },
    {
      "cell_type": "code",
      "execution_count": null,
      "metadata": {
        "id": "3394e94e",
        "colab": {
          "base_uri": "https://localhost:8080/",
          "height": 78
        },
        "outputId": "930ffd67-5e27-4be0-e563-08e40161c6f7"
      },
      "outputs": [
        {
          "output_type": "execute_result",
          "data": {
            "text/plain": [
              "Matrix([\n",
              "[0.0002429,         0,        0],\n",
              "[        0, 0.0002429,        0],\n",
              "[        0,         0, 1.415e-5]])"
            ],
            "text/latex": "$\\displaystyle \\left[\\begin{matrix}0.0002429 & 0 & 0\\\\0 & 0.0002429 & 0\\\\0 & 0 & 1.415 \\cdot 10^{-5}\\end{matrix}\\right]$"
          },
          "metadata": {},
          "execution_count": 30
        }
      ],
      "source": [
        "I = smp.Matrix([[Ixx,0,0],[0,Iyy,0],[0,0,Izz]])\n",
        "I"
      ],
      "id": "3394e94e"
    },
    {
      "cell_type": "code",
      "execution_count": null,
      "metadata": {
        "id": "11563a69"
      },
      "outputs": [],
      "source": [
        "#horizontal distance to the center of mass\n",
        "distance = -r*smp.cos(the) + r + l/2*smp.sin(the)\n",
        "\n",
        "#position of the center of mass\n",
        "z = -r*smp.sin(the)-l/2*smp.cos(the)\n",
        "x = distance*smp.cos(phi)\n",
        "y = distance*smp.sin(phi)\n",
        "\n",
        "#velocities of the center of mass\n",
        "distance_d = smp.diff(distance,t)\n",
        "x_d = smp.diff(x,t)\n",
        "y_d = smp.diff(y,t)\n",
        "z_d = smp.diff(z,t)\n"
      ],
      "id": "11563a69"
    },
    {
      "cell_type": "code",
      "source": [
        "distance_d**2*phi_d"
      ],
      "metadata": {
        "colab": {
          "base_uri": "https://localhost:8080/",
          "height": 61
        },
        "id": "n6f8rXS6oh1I",
        "outputId": "00e844df-fa16-4c65-e125-1812afce1091"
      },
      "id": "n6f8rXS6oh1I",
      "execution_count": null,
      "outputs": [
        {
          "output_type": "execute_result",
          "data": {
            "text/plain": [
              "0.01*(0.1*sin(\\theta(t))*Derivative(\\theta(t), t) + cos(\\theta(t))*Derivative(\\theta(t), t))**2*Derivative(\\phi(t), t)"
            ],
            "text/latex": "$\\displaystyle 0.01 \\left(0.1 \\sin{\\left(\\theta{\\left(t \\right)} \\right)} \\frac{d}{d t} \\theta{\\left(t \\right)} + \\cos{\\left(\\theta{\\left(t \\right)} \\right)} \\frac{d}{d t} \\theta{\\left(t \\right)}\\right)^{2} \\frac{d}{d t} \\phi{\\left(t \\right)}$"
          },
          "metadata": {},
          "execution_count": 39
        }
      ]
    },
    {
      "cell_type": "code",
      "execution_count": null,
      "metadata": {
        "id": "09490458",
        "colab": {
          "base_uri": "https://localhost:8080/",
          "height": 245
        },
        "outputId": "f81bb86d-a512-4494-a03c-d3897c568f06"
      },
      "outputs": [
        {
          "output_type": "error",
          "ename": "NameError",
          "evalue": "name 'm' is not defined",
          "traceback": [
            "\u001b[0;31m---------------------------------------------------------------------------\u001b[0m",
            "\u001b[0;31mNameError\u001b[0m                                 Traceback (most recent call last)",
            "\u001b[0;32m<ipython-input-1-15a30f1c57f7>\u001b[0m in \u001b[0;36m<cell line: 1>\u001b[0;34m()\u001b[0m\n\u001b[0;32m----> 1\u001b[0;31m \u001b[0mtranslation\u001b[0m \u001b[0;34m=\u001b[0m \u001b[0;36m1\u001b[0m\u001b[0;34m/\u001b[0m\u001b[0;36m2\u001b[0m\u001b[0;34m*\u001b[0m\u001b[0mm\u001b[0m\u001b[0;34m*\u001b[0m\u001b[0;34m(\u001b[0m\u001b[0mx_d\u001b[0m\u001b[0;34m**\u001b[0m\u001b[0;36m2\u001b[0m \u001b[0;34m+\u001b[0m \u001b[0my_d\u001b[0m\u001b[0;34m**\u001b[0m\u001b[0;36m2\u001b[0m \u001b[0;34m+\u001b[0m \u001b[0mz_d\u001b[0m\u001b[0;34m**\u001b[0m\u001b[0;36m2\u001b[0m\u001b[0;34m)\u001b[0m\u001b[0;34m\u001b[0m\u001b[0;34m\u001b[0m\u001b[0m\n\u001b[0m\u001b[1;32m      2\u001b[0m \u001b[0mrotation\u001b[0m \u001b[0;34m=\u001b[0m \u001b[0msmp\u001b[0m\u001b[0;34m.\u001b[0m\u001b[0mRational\u001b[0m\u001b[0;34m(\u001b[0m\u001b[0;36m1\u001b[0m\u001b[0;34m,\u001b[0m\u001b[0;36m2\u001b[0m\u001b[0;34m)\u001b[0m\u001b[0;34m*\u001b[0m\u001b[0momega\u001b[0m\u001b[0;34m.\u001b[0m\u001b[0mT\u001b[0m\u001b[0;34m.\u001b[0m\u001b[0mdot\u001b[0m\u001b[0;34m(\u001b[0m\u001b[0mI\u001b[0m\u001b[0;34m*\u001b[0m\u001b[0momega\u001b[0m\u001b[0;34m)\u001b[0m\u001b[0;34m.\u001b[0m\u001b[0msimplify\u001b[0m\u001b[0;34m(\u001b[0m\u001b[0;34m)\u001b[0m\u001b[0;34m\u001b[0m\u001b[0;34m\u001b[0m\u001b[0m\n\u001b[1;32m      3\u001b[0m \u001b[0;34m\u001b[0m\u001b[0m\n\u001b[1;32m      4\u001b[0m \u001b[0;31m#distance_to_charge1 = (r*r*(1-smp.cos(the))**2+(h+r*smp.sin(the))**2)**0.5\u001b[0m\u001b[0;34m\u001b[0m\u001b[0;34m\u001b[0m\u001b[0m\n\u001b[1;32m      5\u001b[0m \u001b[0;31m#distance_to_charge2 = ((r*(1-smp.cos(the))+l*smp.sin(the))**2+(h+r*smp.sin(the)+l*smp.cos(the))**2)**0.5\u001b[0m\u001b[0;34m\u001b[0m\u001b[0;34m\u001b[0m\u001b[0m\n",
            "\u001b[0;31mNameError\u001b[0m: name 'm' is not defined"
          ]
        }
      ],
      "source": [
        "translation = 1/2*m*(x_d**2 + y_d**2 + z_d**2)\n",
        "rotation = smp.Rational(1,2)*omega.T.dot(I*omega).simplify()\n",
        "\n",
        "#distance_to_charge1 = (r*r*(1-smp.cos(the))**2+(h+r*smp.sin(the))**2)**0.5\n",
        "#distance_to_charge2 = ((r*(1-smp.cos(the))+l*smp.sin(the))**2+(h+r*smp.sin(the)+l*smp.cos(the))**2)**0.5\n",
        "V_mag = -0.09766-0.28567*2.71828182845904**(the*-1.46955)\n",
        "V = g*z*m +V_mag\n",
        "\n",
        "L = translation + rotation - V\n",
        "\n",
        "V_magforce = -0.09766-0.28567*2.71828182845904**((np.pi-the)*-1.46955)\n",
        "FBV =2/l*-0.00414982*smp.exp(1.46955*the)*(-smp.sin(the))\n",
        "N = FBV-m*(smp.diff(z_d,t)+g)\n",
        "D = uk*N*r\n",
        "D"
      ],
      "id": "09490458"
    },
    {
      "cell_type": "markdown",
      "metadata": {
        "id": "bbd794e5"
      },
      "source": [
        "# constraining equation"
      ],
      "id": "bbd794e5"
    },
    {
      "cell_type": "code",
      "execution_count": null,
      "metadata": {
        "id": "92d113dd",
        "colab": {
          "base_uri": "https://localhost:8080/",
          "height": 100
        },
        "outputId": "444b89b4-b361-4e4c-edc8-80a7617f6fc5"
      },
      "outputs": [
        {
          "output_type": "execute_result",
          "data": {
            "text/plain": [
              "Matrix([\n",
              "[                                                                        -(-(0.1*sin(\\theta(t)) - 0.01*cos(\\theta(t)) + 0.01)*sin(\\phi(t)) + 0.01*sin(\\theta(t)))*(cos(\\theta(t))*Derivative(\\phi(t), t) + Derivative(\\psi(t), t)) + (-sin(\\psi(t))*Derivative(\\theta(t), t) + sin(\\theta(t))*cos(\\psi(t))*Derivative(\\phi(t), t))*(0.01*sin(\\theta(t)) + 0.1*cos(\\theta(t)))],\n",
              "[                                                                          (-(0.1*sin(\\theta(t)) - 0.01*cos(\\theta(t)) + 0.01)*cos(\\phi(t)) + 0.01*cos(\\theta(t)))*(cos(\\theta(t))*Derivative(\\phi(t), t) + Derivative(\\psi(t), t)) - (sin(\\psi(t))*sin(\\theta(t))*Derivative(\\phi(t), t) + cos(\\psi(t))*Derivative(\\theta(t), t))*(0.01*sin(\\theta(t)) + 0.1*cos(\\theta(t)))],\n",
              "[(-(0.1*sin(\\theta(t)) - 0.01*cos(\\theta(t)) + 0.01)*sin(\\phi(t)) + 0.01*sin(\\theta(t)))*(sin(\\psi(t))*sin(\\theta(t))*Derivative(\\phi(t), t) + cos(\\psi(t))*Derivative(\\theta(t), t)) - (-(0.1*sin(\\theta(t)) - 0.01*cos(\\theta(t)) + 0.01)*cos(\\phi(t)) + 0.01*cos(\\theta(t)))*(-sin(\\psi(t))*Derivative(\\theta(t), t) + sin(\\theta(t))*cos(\\psi(t))*Derivative(\\phi(t), t))]])"
            ],
            "text/latex": "$\\displaystyle \\left[\\begin{matrix}- \\left(- \\left(0.1 \\sin{\\left(\\theta{\\left(t \\right)} \\right)} - 0.01 \\cos{\\left(\\theta{\\left(t \\right)} \\right)} + 0.01\\right) \\sin{\\left(\\phi{\\left(t \\right)} \\right)} + 0.01 \\sin{\\left(\\theta{\\left(t \\right)} \\right)}\\right) \\left(\\cos{\\left(\\theta{\\left(t \\right)} \\right)} \\frac{d}{d t} \\phi{\\left(t \\right)} + \\frac{d}{d t} \\psi{\\left(t \\right)}\\right) + \\left(- \\sin{\\left(\\psi{\\left(t \\right)} \\right)} \\frac{d}{d t} \\theta{\\left(t \\right)} + \\sin{\\left(\\theta{\\left(t \\right)} \\right)} \\cos{\\left(\\psi{\\left(t \\right)} \\right)} \\frac{d}{d t} \\phi{\\left(t \\right)}\\right) \\left(0.01 \\sin{\\left(\\theta{\\left(t \\right)} \\right)} + 0.1 \\cos{\\left(\\theta{\\left(t \\right)} \\right)}\\right)\\\\\\left(- \\left(0.1 \\sin{\\left(\\theta{\\left(t \\right)} \\right)} - 0.01 \\cos{\\left(\\theta{\\left(t \\right)} \\right)} + 0.01\\right) \\cos{\\left(\\phi{\\left(t \\right)} \\right)} + 0.01 \\cos{\\left(\\theta{\\left(t \\right)} \\right)}\\right) \\left(\\cos{\\left(\\theta{\\left(t \\right)} \\right)} \\frac{d}{d t} \\phi{\\left(t \\right)} + \\frac{d}{d t} \\psi{\\left(t \\right)}\\right) - \\left(\\sin{\\left(\\psi{\\left(t \\right)} \\right)} \\sin{\\left(\\theta{\\left(t \\right)} \\right)} \\frac{d}{d t} \\phi{\\left(t \\right)} + \\cos{\\left(\\psi{\\left(t \\right)} \\right)} \\frac{d}{d t} \\theta{\\left(t \\right)}\\right) \\left(0.01 \\sin{\\left(\\theta{\\left(t \\right)} \\right)} + 0.1 \\cos{\\left(\\theta{\\left(t \\right)} \\right)}\\right)\\\\\\left(- \\left(0.1 \\sin{\\left(\\theta{\\left(t \\right)} \\right)} - 0.01 \\cos{\\left(\\theta{\\left(t \\right)} \\right)} + 0.01\\right) \\sin{\\left(\\phi{\\left(t \\right)} \\right)} + 0.01 \\sin{\\left(\\theta{\\left(t \\right)} \\right)}\\right) \\left(\\sin{\\left(\\psi{\\left(t \\right)} \\right)} \\sin{\\left(\\theta{\\left(t \\right)} \\right)} \\frac{d}{d t} \\phi{\\left(t \\right)} + \\cos{\\left(\\psi{\\left(t \\right)} \\right)} \\frac{d}{d t} \\theta{\\left(t \\right)}\\right) - \\left(- \\left(0.1 \\sin{\\left(\\theta{\\left(t \\right)} \\right)} - 0.01 \\cos{\\left(\\theta{\\left(t \\right)} \\right)} + 0.01\\right) \\cos{\\left(\\phi{\\left(t \\right)} \\right)} + 0.01 \\cos{\\left(\\theta{\\left(t \\right)} \\right)}\\right) \\left(- \\sin{\\left(\\psi{\\left(t \\right)} \\right)} \\frac{d}{d t} \\theta{\\left(t \\right)} + \\sin{\\left(\\theta{\\left(t \\right)} \\right)} \\cos{\\left(\\psi{\\left(t \\right)} \\right)} \\frac{d}{d t} \\phi{\\left(t \\right)}\\right)\\end{matrix}\\right]$"
          },
          "metadata": {},
          "execution_count": 11
        }
      ],
      "source": [
        "#Position of the contact point\n",
        "contact = smp.Matrix([r*smp.cos(the),r*smp.sin(the), 0])\n",
        "COM = smp.Matrix([x,y,z])\n",
        "relative_distance = contact - COM\n",
        "\n",
        "#determining vlocity relative to the center of mass\n",
        "rel_velocity_of_contact = omega.cross(relative_distance)\n",
        "#velocity_of_contact[0]\n",
        "#velocity_of_contact[1]\n",
        "rel_velocity_of_contact"
      ],
      "id": "92d113dd"
    },
    {
      "cell_type": "code",
      "execution_count": null,
      "metadata": {
        "id": "3d78091f",
        "colab": {
          "base_uri": "https://localhost:8080/",
          "height": 133
        },
        "outputId": "99c5a61c-d50a-4bd8-f1d8-92eaaf590922"
      },
      "outputs": [
        {
          "output_type": "execute_result",
          "data": {
            "text/plain": [
              "(-(0.1*sin(\\theta(t)) - 0.01*cos(\\theta(t)) + 0.01)*sin(\\phi(t)) + 0.01*sin(\\theta(t)))*(sin(\\psi(t))*sin(\\theta(t))*Derivative(\\phi(t), t) + cos(\\psi(t))*Derivative(\\theta(t), t)) - (-(0.1*sin(\\theta(t)) - 0.01*cos(\\theta(t)) + 0.01)*cos(\\phi(t)) + 0.01*cos(\\theta(t)))*(-sin(\\psi(t))*Derivative(\\theta(t), t) + sin(\\theta(t))*cos(\\psi(t))*Derivative(\\phi(t), t)) + 0.1*sin(\\theta(t))*Derivative(\\theta(t), t) - 0.01*cos(\\theta(t))*Derivative(\\theta(t), t)"
            ],
            "text/latex": "$\\displaystyle \\left(- \\left(0.1 \\sin{\\left(\\theta{\\left(t \\right)} \\right)} - 0.01 \\cos{\\left(\\theta{\\left(t \\right)} \\right)} + 0.01\\right) \\sin{\\left(\\phi{\\left(t \\right)} \\right)} + 0.01 \\sin{\\left(\\theta{\\left(t \\right)} \\right)}\\right) \\left(\\sin{\\left(\\psi{\\left(t \\right)} \\right)} \\sin{\\left(\\theta{\\left(t \\right)} \\right)} \\frac{d}{d t} \\phi{\\left(t \\right)} + \\cos{\\left(\\psi{\\left(t \\right)} \\right)} \\frac{d}{d t} \\theta{\\left(t \\right)}\\right) - \\left(- \\left(0.1 \\sin{\\left(\\theta{\\left(t \\right)} \\right)} - 0.01 \\cos{\\left(\\theta{\\left(t \\right)} \\right)} + 0.01\\right) \\cos{\\left(\\phi{\\left(t \\right)} \\right)} + 0.01 \\cos{\\left(\\theta{\\left(t \\right)} \\right)}\\right) \\left(- \\sin{\\left(\\psi{\\left(t \\right)} \\right)} \\frac{d}{d t} \\theta{\\left(t \\right)} + \\sin{\\left(\\theta{\\left(t \\right)} \\right)} \\cos{\\left(\\psi{\\left(t \\right)} \\right)} \\frac{d}{d t} \\phi{\\left(t \\right)}\\right) + 0.1 \\sin{\\left(\\theta{\\left(t \\right)} \\right)} \\frac{d}{d t} \\theta{\\left(t \\right)} - 0.01 \\cos{\\left(\\theta{\\left(t \\right)} \\right)} \\frac{d}{d t} \\theta{\\left(t \\right)}$"
          },
          "metadata": {},
          "execution_count": 12
        }
      ],
      "source": [
        "#velocity vector of center of mass\n",
        "COM_v = smp.Matrix([x_d,y_d,z_d])\n",
        "absolute_velocity = COM_v + rel_velocity_of_contact\n",
        "absolute_velocity[2]"
      ],
      "id": "3d78091f"
    },
    {
      "cell_type": "code",
      "execution_count": null,
      "metadata": {
        "id": "79bdb7d0"
      },
      "outputs": [],
      "source": [
        "constraint_1 = absolute_velocity[0]\n",
        "constraint_2 = absolute_velocity[1]\n",
        "#constraint_3 is trivial since we defined the position of the COM with the contact point\n",
        "#constraint_3 = absolute_velocity[2]\n",
        "constraint_1 = constraint_1.simplify()\n",
        "constraint_2 = constraint_2.simplify()\n",
        "#constraint_3 = constraint_3.simplify()"
      ],
      "id": "79bdb7d0"
    },
    {
      "cell_type": "code",
      "source": [
        "LE1 = smp.diff(L, the) - smp.diff(smp.diff(L, the_d), t)\n",
        "LE1 = LE1.simplify()\n",
        "\n",
        "LE2 = smp.diff(L, phi) - smp.diff(smp.diff(L, phi_d), t)\n",
        "LE2 = LE2.simplify()-0.005*phi_d\n",
        "\n",
        "LE3 = smp.diff(L, psi) - smp.diff(smp.diff(L, psi_d), t)\n",
        "LE3 = LE3.simplify()"
      ],
      "metadata": {
        "id": "AJGwnx6pKoi-"
      },
      "id": "AJGwnx6pKoi-",
      "execution_count": null,
      "outputs": []
    },
    {
      "cell_type": "code",
      "execution_count": null,
      "metadata": {
        "id": "da51260b"
      },
      "outputs": [],
      "source": [
        "sols = smp.solve([LE1, LE2, LE3, constraint_1, constraint_2], (the_dd, phi_dd, psi_dd),\n",
        "                simplify=False, rational=False)"
      ],
      "id": "da51260b"
    },
    {
      "cell_type": "code",
      "execution_count": null,
      "metadata": {
        "id": "45aca0c3"
      },
      "outputs": [],
      "source": [
        "dz1dt_f = smp.lambdify((the, phi, psi, the_d, phi_d, psi_d), sols[the_dd])\n",
        "dthedt_f = smp.lambdify(the_d, the_d)\n",
        "\n",
        "dz2dt_f = smp.lambdify((the, phi, psi, the_d, phi_d, psi_d), sols[phi_dd])\n",
        "dphidt_f = smp.lambdify(phi_d, phi_d)\n",
        "\n",
        "dz3dt_f = smp.lambdify((the, phi, psi, the_d, phi_d, psi_d), sols[psi_dd])\n",
        "dpsidt_f = smp.lambdify(psi_d, psi_d)"
      ],
      "id": "45aca0c3"
    },
    {
      "cell_type": "code",
      "execution_count": null,
      "metadata": {
        "id": "25587ec4"
      },
      "outputs": [],
      "source": [
        "def dSdt(S, t):\n",
        "    the, phi, psi, z1, z2, z3 = S\n",
        "    return [\n",
        "        dthedt_f(z1),\n",
        "        dphidt_f(z2),\n",
        "        dpsidt_f(z3),\n",
        "        dz1dt_f(the,phi,psi,z1,z2,z3),\n",
        "        dz2dt_f(the,phi,psi,z1,z2,z3),\n",
        "        dz3dt_f(the,phi,psi,z1,z2,z3),\n",
        "    ]"
      ],
      "id": "25587ec4"
    },
    {
      "cell_type": "code",
      "execution_count": null,
      "metadata": {
        "id": "10ba0a45",
        "scrolled": true
      },
      "outputs": [],
      "source": [
        "time = 3\n",
        "dt = 0.001\n",
        "t = np.linspace(0, time, int(time/dt))\n",
        "ans1 = odeint(dSdt, y0 = [1.5, 0, 0, 0, 20, 10], t = t)"
      ],
      "id": "10ba0a45"
    },
    {
      "cell_type": "code",
      "execution_count": null,
      "metadata": {
        "id": "Zn7zujh9Prbb",
        "colab": {
          "base_uri": "https://localhost:8080/",
          "height": 430
        },
        "outputId": "ba931b8b-3e6e-4481-e0bb-b586da6f9d17"
      },
      "outputs": [
        {
          "output_type": "display_data",
          "data": {
            "text/plain": [
              "<Figure size 640x480 with 1 Axes>"
            ],
            "image/png": "[encoded data removed]"
          },
          "metadata": {}
        }
      ],
      "source": [
        "the = ans1.T[0]\n",
        "phi = ans1.T[1]\n",
        "psi = ans1.T[2]\n",
        "the_d = ans1.T[3]\n",
        "phi_d = ans1.T[4]\n",
        "psi_d = ans1.T[5]\n",
        "plt.plot(t,phi_d)\n",
        "plt.show()"
      ],
      "id": "Zn7zujh9Prbb"
    },
    {
      "cell_type": "code",
      "execution_count": null,
      "metadata": {
        "id": "Zjx_aOJh42km"
      },
      "outputs": [],
      "source": [
        "#輸出某個時間點的各項參數(用於繪製動畫)\n",
        "path = r\"Numerical Solution.txt\"\n",
        "with open (path,'w') as f:\n",
        "  f.write(str([r,l,h,1/dt])+\"\\n\")\n",
        "  for n in range(0,int(time/dt)-1):\n",
        "    distance = -r*smp.cos(the[n]) + r + l/2*smp.sin(the[n])\n",
        "    x = distance*smp.cos(phi[n])\n",
        "    y = distance*smp.sin(phi[n])\n",
        "    z = -r*smp.sin(the[n])-l/2*smp.cos(the[n])\n",
        "    f.write(str([n/dt,x,y,z,the[n],phi[n],psi_d[n],the_d[n],phi_d[n],psi_d[n]])+\"\\n\")\n",
        "f.close()"
      ],
      "id": "Zjx_aOJh42km"
    },
    {
      "cell_type": "code",
      "source": [],
      "metadata": {
        "id": "vT_x7yARGNHC"
      },
      "id": "vT_x7yARGNHC",
      "execution_count": null,
      "outputs": []
    },
    {
      "cell_type": "markdown",
      "metadata": {
        "id": "fef2bde0"
      },
      "source": [
        "the_t = ans1.T[0]\n",
        "phi_t = ans1.T[2]\n",
        "j=1\n",
        "length = len(the_t)\n",
        "for i in range (0,length-1):\n",
        "    a = the_t[i]-0.3\n",
        "    b = the_t[i+1]-0.3\n",
        "    j=0\n",
        "    if a*b<0 and a > b:\n",
        "        j = 1\n",
        "    phi_t[i]=phi_t[i]+j*np.pi\n",
        "x_t = np.sin(phi_t)*np.sin(the_t)\n",
        "y_t = np.cos(phi_t)*np.sin(the_t)\n",
        "z_t = np.cos(the_t)\n",
        "plt.plot(t,phi_t)"
      ],
      "id": "fef2bde0"
    },
    {
      "cell_type": "code",
      "execution_count": null,
      "metadata": {
        "id": "35fd1699",
        "colab": {
          "base_uri": "https://localhost:8080/",
          "height": 448
        },
        "outputId": "26e264a0-469e-4352-8771-7afd2504aedf"
      },
      "outputs": [
        {
          "output_type": "execute_result",
          "data": {
            "text/plain": [
              "[<matplotlib.lines.Line2D at 0x7fdd4811ad70>]"
            ]
          },
          "metadata": {},
          "execution_count": 22
        },
        {
          "output_type": "display_data",
          "data": {
            "text/plain": [
              "<Figure size 640x480 with 1 Axes>"
            ],
            "image/png": "[encoded data removed]"
          },
          "metadata": {}
        }
      ],
      "source": [
        "def get_pos(t, the_t, phi_t):\n",
        "    return (np.sin(phi_t)*np.sin(the_t),\n",
        "           np.cos(phi_t)*np.sin(the_t),\n",
        "           np.cos(the_t))\n",
        "\n",
        "x, y, z = get_pos(t, ans1.T[0], ans1.T[1])\n",
        "plt.plot(x,y)"
      ],
      "id": "35fd1699"
    },
    {
      "cell_type": "code",
      "execution_count": null,
      "metadata": {
        "id": "KU64ZJQL1Bky"
      },
      "outputs": [],
      "source": [
        "data = []\n",
        "for n in the:\n",
        "  if n <0.0001:\n",
        "    break\n",
        "  data.append(n)"
      ],
      "id": "KU64ZJQL1Bky"
    }
  ],
  "metadata": {
    "colab": {
      "provenance": []
    },
    "kernelspec": {
      "display_name": "Python 3 (ipykernel)",
      "language": "python",
      "name": "python3"
    },
    "language_info": {
      "codemirror_mode": {
        "name": "ipython",
        "version": 3
      },
      "file_extension": ".py",
      "mimetype": "text/x-python",
      "name": "python",
      "nbconvert_exporter": "python",
      "pygments_lexer": "ipython3",
      "version": "3.9.7"
    }
  },
  "nbformat": 4,
  "nbformat_minor": 5
}