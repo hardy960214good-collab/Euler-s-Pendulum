{
  "nbformat": 4,
  "nbformat_minor": 0,
  "metadata": {
    "colab": {
      "provenance": []
    },
    "kernelspec": {
      "name": "python3",
      "display_name": "Python 3"
    },
    "language_info": {
      "name": "python"
    }
  },
  "cells": [
    {
      "cell_type": "code",
      "execution_count": null,
      "metadata": {
        "id": "oF_DOtRKbAaw"
      },
      "outputs": [],
      "source": [
        "import numpy as np\n",
        "import matplotlib.pyplot as plt\n",
        "import sympy as smp\n",
        "from scipy.integrate import odeint\n",
        "import plotly.graph_objects as go\n",
        "from IPython.display import HTML"
      ]
    },
    {
      "cell_type": "code",
      "source": [
        "t, l, r, g, m = smp.symbols('t l r g m', real=True)\n",
        "Ixx, Iyy, Izz = smp.symbols('I_{xx}, I_{yy}, I_{zz}', real=True)\n",
        "the, phi, psi = smp.symbols(r'\\theta \\phi \\psi', cls=smp.Function)\n",
        "the=the(t)\n",
        "phi=phi(t)\n",
        "psi=psi(t)"
      ],
      "metadata": {
        "id": "P91x6TnQbKZs"
      },
      "execution_count": null,
      "outputs": []
    },
    {
      "cell_type": "code",
      "source": [
        "#First Derivatives\n",
        "the_d = smp.diff(the,t)\n",
        "phi_d = smp.diff(phi,t)\n",
        "psi_d = smp.diff(psi,t)"
      ],
      "metadata": {
        "id": "Dk_iTHTvbNxk"
      },
      "execution_count": null,
      "outputs": []
    },
    {
      "cell_type": "code",
      "source": [
        "#Second Derivatives\n",
        "the_dd = smp.diff(the_d,t)\n",
        "phi_dd = smp.diff(phi_d,t)\n",
        "psi_dd = smp.diff(psi_d,t)"
      ],
      "metadata": {
        "id": "f1GsUaUfbPVH"
      },
      "execution_count": null,
      "outputs": []
    },
    {
      "cell_type": "code",
      "source": [
        "#Initial Variables\n",
        "l = 0.04 #Half length of pendulum\n",
        "g = 9.8  #Gravity\n",
        "r = 0.01 #Radius of pendulum\n",
        "m = (r*100)**2*np.pi*l*6/10\n",
        "\n",
        "#Rotational Inertia\n",
        "Ixx = m*(3*r*r+l**2)/12\n",
        "Iyy = m*(3*r*r+l**2)/12\n",
        "Izz = 0.5*m*r*r\n",
        "I = smp.Matrix([[Ixx,0,0],[0,Iyy,0],[0,0,Izz]])\n",
        "\n",
        "#Initial Coordinates\n",
        "x = (r-r*smp.cos(the)+l*smp.sin(the))*smp.cos(phi)\n",
        "y = (r-r*smp.cos(the)+l*smp.sin(the))*smp.sin(phi)\n",
        "z = -(r*smp.sin(the)+l*smp.cos(the))"
      ],
      "metadata": {
        "id": "jv_wjiJtbRPx"
      },
      "execution_count": null,
      "outputs": []
    },
    {
      "cell_type": "code",
      "source": [
        "#Transitional Velocity\n",
        "x_d = smp.diff(x,t)\n",
        "y_d = smp.diff(y,t)\n",
        "z_d = smp.diff(z,t)"
      ],
      "metadata": {
        "id": "UmUB1-MqbVYG"
      },
      "execution_count": null,
      "outputs": []
    },
    {
      "cell_type": "code",
      "source": [
        "#Angular Velocity\n",
        "omega = smp.Matrix([phi_d*smp.sin(the)*smp.sin(psi)+the_d*smp.cos(psi),\n",
        "                    phi_d*smp.sin(the)*smp.cos(psi)-the_d*smp.sin(psi),\n",
        "                    phi_d*smp.cos(the)+psi_d])"
      ],
      "metadata": {
        "id": "5SVF1d-jbXMl"
      },
      "execution_count": null,
      "outputs": []
    },
    {
      "cell_type": "code",
      "source": [
        "#Kinetic Energy\n",
        "Tran = 0.5*m*(x_d**2+y_d**2+z_d**2)\n",
        "Rota = 0.5*omega.T.dot(I*omega).simplify()\n",
        "T = Tran+Rota"
      ],
      "metadata": {
        "id": "94RmbV7JdFM-"
      },
      "execution_count": null,
      "outputs": []
    },
    {
      "cell_type": "code",
      "source": [
        "#Potential Energy\n",
        "Grav = m*g*z\n",
        "M = 20000000000\n",
        "mu_0 = 4*(10**(-7))\n",
        "A1 = (z+l)/((((z+l)**2+r**2)**0.5))\n",
        "A2 = z/((z**2+r**2)**0.5)\n",
        "A = A1-A2\n",
        "C = mu_0*M/2\n",
        "B_z = C*A\n",
        "Vol = 3.14*r*r*l\n",
        "mu = Vol*M\n",
        "K =( mu**2 / (x **2 + y **2 + z **2) )**0.5\n",
        "Magn = - (z*K * B_z)\n",
        "V = Grav+Magn"
      ],
      "metadata": {
        "id": "vu5jqWP5edLj"
      },
      "execution_count": null,
      "outputs": []
    },
    {
      "cell_type": "code",
      "source": [
        "#Solving Equation\n",
        "L = T-V\n",
        "LE1 = smp.diff(L,the)-smp.diff(smp.diff(L, the_d),t)\n",
        "LE2 = smp.diff(L,phi)-smp.diff(smp.diff(L, phi_d),t)\n",
        "LE3 = smp.diff(L,psi)-smp.diff(smp.diff(L, psi_d),t)"
      ],
      "metadata": {
        "id": "mrm6uE19ku4t"
      },
      "execution_count": null,
      "outputs": []
    },
    {
      "cell_type": "code",
      "source": [
        "LE3 = LE3.simplify()"
      ],
      "metadata": {
        "id": "vurHLmcok08R"
      },
      "execution_count": null,
      "outputs": []
    },
    {
      "cell_type": "code",
      "source": [
        "LE2 = LE2.simplify()"
      ],
      "metadata": {
        "id": "JZzYjz6Sk2wt"
      },
      "execution_count": null,
      "outputs": []
    },
    {
      "cell_type": "code",
      "source": [
        "LE1 = LE1.simplify()"
      ],
      "metadata": {
        "id": "K2jOTTqVk4os"
      },
      "execution_count": null,
      "outputs": []
    },
    {
      "cell_type": "code",
      "source": [
        "#Equation Solved\n",
        "sols = smp.solve([LE1,LE2,LE3], (the_dd,phi_dd,psi_dd),\n",
        "                 simplify=False, rational=False)"
      ],
      "metadata": {
        "id": "0XfulAD8o9H9"
      },
      "execution_count": null,
      "outputs": []
    },
    {
      "cell_type": "code",
      "source": [
        "#Function Defining\n",
        "dz1dt_f = smp.lambdify((the,phi,psi,the_d,phi_d,psi_d),sols[the_dd])\n",
        "dthedt_f = smp.lambdify(the_d,the_d)\n",
        "\n",
        "dz2dt_f = smp.lambdify((the,phi,psi,the_d,phi_d,psi_d),sols[phi_dd])\n",
        "dphidt_f = smp.lambdify(phi_d,phi_d)\n",
        "\n",
        "dz3dt_f = smp.lambdify((the,phi,psi,the_d,phi_d,psi_d),sols[psi_dd])\n",
        "dpsidt_f = smp.lambdify(psi_d,psi_d)\n"
      ],
      "metadata": {
        "id": "cBaKiBS-ps7i"
      },
      "execution_count": null,
      "outputs": []
    },
    {
      "cell_type": "code",
      "source": [
        "#Numerical Function\n",
        "def dSdt(S,t):\n",
        "    the, z1, phi, z2, psi, z3 = S\n",
        "    return [\n",
        "        dthedt_f(z1),\n",
        "        dz1dt_f(the,phi,psi,z1,z2,z3),\n",
        "        dphidt_f(z2),\n",
        "        dz2dt_f(the,phi,psi,z1,z2,z3),\n",
        "        dpsidt_f(z3),\n",
        "        dz3dt_f(the,phi,psi,z1,z2,z3),\n",
        "    ]"
      ],
      "metadata": {
        "id": "YzA8HGn2pwsL"
      },
      "execution_count": null,
      "outputs": []
    },
    {
      "cell_type": "code",
      "source": [
        "#Numerical Solution\n",
        "time = 10\n",
        "samples = time*10000\n",
        "t = np.linspace(0,time,samples)\n",
        "ans1 = odeint(dSdt,y0 = [0.141,0,0,10,0,0], t = t)\n",
        "theta = ans1.T[0]\n",
        "phi = ans1.T[2]\n",
        "theta_d = ans1.T[1]\n",
        "phi_d = ans1.T[3]\n",
        "\n"
      ],
      "metadata": {
        "colab": {
          "base_uri": "https://localhost:8080/",
          "height": 237
        },
        "id": "2M7iUs4ipyLF",
        "outputId": "a47c3542-889f-4d43-eafb-d28499be7d4f"
      },
      "execution_count": null,
      "outputs": [
        {
          "output_type": "error",
          "ename": "NameError",
          "evalue": "ignored",
          "traceback": [
            "\u001b[0;31m---------------------------------------------------------------------------\u001b[0m",
            "\u001b[0;31mNameError\u001b[0m                                 Traceback (most recent call last)",
            "\u001b[0;32m<ipython-input-1-89a7e93cabe0>\u001b[0m in \u001b[0;36m<cell line: 4>\u001b[0;34m()\u001b[0m\n\u001b[1;32m      2\u001b[0m \u001b[0mtime\u001b[0m \u001b[0;34m=\u001b[0m \u001b[0;36m10\u001b[0m\u001b[0;34m\u001b[0m\u001b[0;34m\u001b[0m\u001b[0m\n\u001b[1;32m      3\u001b[0m \u001b[0msamples\u001b[0m \u001b[0;34m=\u001b[0m \u001b[0mtime\u001b[0m\u001b[0;34m*\u001b[0m\u001b[0;36m10000\u001b[0m\u001b[0;34m\u001b[0m\u001b[0;34m\u001b[0m\u001b[0m\n\u001b[0;32m----> 4\u001b[0;31m \u001b[0mt\u001b[0m \u001b[0;34m=\u001b[0m \u001b[0mnp\u001b[0m\u001b[0;34m.\u001b[0m\u001b[0mlinspace\u001b[0m\u001b[0;34m(\u001b[0m\u001b[0;36m0\u001b[0m\u001b[0;34m,\u001b[0m\u001b[0mtime\u001b[0m\u001b[0;34m,\u001b[0m\u001b[0msamples\u001b[0m\u001b[0;34m)\u001b[0m\u001b[0;34m\u001b[0m\u001b[0;34m\u001b[0m\u001b[0m\n\u001b[0m\u001b[1;32m      5\u001b[0m \u001b[0mans1\u001b[0m \u001b[0;34m=\u001b[0m \u001b[0modeint\u001b[0m\u001b[0;34m(\u001b[0m\u001b[0mdSdt\u001b[0m\u001b[0;34m,\u001b[0m\u001b[0my0\u001b[0m \u001b[0;34m=\u001b[0m \u001b[0;34m[\u001b[0m\u001b[0;36m0.141\u001b[0m\u001b[0;34m,\u001b[0m\u001b[0;36m0\u001b[0m\u001b[0;34m,\u001b[0m\u001b[0;36m0\u001b[0m\u001b[0;34m,\u001b[0m\u001b[0;36m10\u001b[0m\u001b[0;34m,\u001b[0m\u001b[0;36m0\u001b[0m\u001b[0;34m,\u001b[0m\u001b[0;36m0\u001b[0m\u001b[0;34m]\u001b[0m\u001b[0;34m,\u001b[0m \u001b[0mt\u001b[0m \u001b[0;34m=\u001b[0m \u001b[0mt\u001b[0m\u001b[0;34m)\u001b[0m\u001b[0;34m\u001b[0m\u001b[0;34m\u001b[0m\u001b[0m\n\u001b[1;32m      6\u001b[0m \u001b[0mtheta\u001b[0m \u001b[0;34m=\u001b[0m \u001b[0mans1\u001b[0m\u001b[0;34m.\u001b[0m\u001b[0mT\u001b[0m\u001b[0;34m[\u001b[0m\u001b[0;36m0\u001b[0m\u001b[0;34m]\u001b[0m\u001b[0;34m\u001b[0m\u001b[0;34m\u001b[0m\u001b[0m\n",
            "\u001b[0;31mNameError\u001b[0m: name 'np' is not defined"
          ]
        }
      ]
    },
    {
      "cell_type": "code",
      "source": [
        "#Matplotlib Graphing\n",
        "plt.title('Euler\\'s Pendulum')\n",
        "plt.xlabel('Time')\n",
        "plt.plot(t,theta, color='blue', label='theta')\n",
        "plt.plot(t, phi, color='orange', label='phi')\n",
        "#plt.plot(t, theta_d, color='green', label='theta_d')\n",
        "#plt.plot(t, phi_d, color='red', label='phi_d')\n",
        "plt.legend(loc='upper left')\n",
        "plt.show()"
      ],
      "metadata": {
        "colab": {
          "base_uri": "https://localhost:8080/",
          "height": 507
        },
        "id": "a05-nFEmqhP8",
        "outputId": "e3b12cc8-2c2f-4a38-bc03-e1c25a590ccf"
      },
      "execution_count": null,
      "outputs": [
        {
          "output_type": "stream",
          "name": "stderr",
          "text": [
            "/usr/local/lib/python3.10/dist-packages/matplotlib/axes/_base.py:2917: RuntimeWarning: overflow encountered in double_scalars\n",
            "  x0, x1 = inverse_trans.transform([x0t - delta, x1t + delta])\n"
          ]
        },
        {
          "output_type": "display_data",
          "data": {
            "text/plain": [
              "<Figure size 640x480 with 1 Axes>"
            ],
            "image/png": "[encoded data removed]"
          },
          "metadata": {}
        }
      ]
    }
  ]
}